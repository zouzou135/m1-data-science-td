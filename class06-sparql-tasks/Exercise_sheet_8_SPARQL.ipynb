{
 "cells": [
  {
   "cell_type": "markdown",
   "metadata": {},
   "source": [
    "# Exercise Sheet #8\n",
    "\n",
    "## Exercise 1\n",
    "\n",
    "For this exercise, you are require to write SPARQL queries and to check their answer on the following SPARQL endpoint: https://dbpedia.org/sparql.\n",
    "\n",
    "The following prefixes will be useful:\n",
    "- PREFIX dbo: <http://dbpedia.org/ontology/>\n",
    "- PREFIX dbr: <http://dbpedia.org/resource/>\n",
    "- PREFIX dbp: <http://dbpedia.org/property/>\n",
    "\n",
    "### Question 1.1\n",
    "\n",
    "- Look up http://dbpedia.org/page/Alan_Bean. Write a query to retrieve the abstract.\n"
   ]
  },
  {
   "attachments": {},
   "cell_type": "markdown",
   "metadata": {},
   "source": [
    "PREFIX dbo: <http://dbpedia.org/ontology/>\n",
    "PREFIX dbr: <http://dbpedia.org/resource/>\n",
    "PREFIX dbp: <http://dbpedia.org/property/>\n",
    "\n",
    "select distinct ?page ?abs where {\n",
    "?page dbo:wikiPageID 102595 .\n",
    "?page dbo:abstract ?abs .\n",
    "} "
   ]
  },
  {
   "cell_type": "markdown",
   "metadata": {},
   "source": [
    "<!-- write your code in between the backquotes -->\n",
    "```\n",
    "\n",
    "```"
   ]
  },
  {
   "cell_type": "markdown",
   "metadata": {},
   "source": [
    "### Question 1.2\n",
    "- Modify the query to retrieve the abstract in a single language of your choice (e.g., only the french abstract).\n"
   ]
  },
  {
   "cell_type": "markdown",
   "metadata": {},
   "source": [
    "<!-- write your code in between the backquotes -->\n",
    "```\n",
    "\n",
    "```"
   ]
  },
  {
   "attachments": {},
   "cell_type": "markdown",
   "metadata": {},
   "source": [
    "PREFIX dbo: <http://dbpedia.org/ontology/>\n",
    "PREFIX dbr: <http://dbpedia.org/resource/>\n",
    "PREFIX dbp: <http://dbpedia.org/property/>\n",
    "\n",
    "select distinct ?page ?abs where {\n",
    "?page dbo:wikiPageID 102595 .\n",
    "?page dbo:abstract ?abs .\n",
    "FILTER(lang(?abs)=\"fr\")\n",
    "} "
   ]
  },
  {
   "cell_type": "markdown",
   "metadata": {},
   "source": [
    "### Question 1.3\n",
    "- Look at how the astronaut profession is specified (in http://dbpedia.org/page/Alan_Bean) and write a query to retrieve all astronauts.\n"
   ]
  },
  {
   "attachments": {},
   "cell_type": "markdown",
   "metadata": {},
   "source": [
    "PREFIX dbo: <http://dbpedia.org/ontology/>\n",
    "PREFIX dbr: <http://dbpedia.org/resource/>\n",
    "PREFIX dbp: <http://dbpedia.org/property/>\n",
    "\n",
    "select distinct ?astro where {\n",
    "?astro dbp:type|dbo:occupation|dbp:occupation dbr:Astronaut .\n",
    "} "
   ]
  },
  {
   "cell_type": "markdown",
   "metadata": {},
   "source": [
    "<!-- write your code in between the backquotes -->\n",
    "```\n",
    "\n",
    "```"
   ]
  },
  {
   "cell_type": "markdown",
   "metadata": {},
   "source": [
    "### Question 1.4\n",
    "- Write a query that counts the nb of astronauts.\n"
   ]
  },
  {
   "attachments": {},
   "cell_type": "markdown",
   "metadata": {},
   "source": [
    "PREFIX dbo: <http://dbpedia.org/ontology/>\n",
    "PREFIX dbr: <http://dbpedia.org/resource/>\n",
    "PREFIX dbp: <http://dbpedia.org/property/>\n",
    "\n",
    "select count(?astro) as ?astro_count where {\n",
    "?astro dbp:type|dbo:occupation|dbp:occupation dbr:Astronaut .\n",
    "} "
   ]
  },
  {
   "cell_type": "markdown",
   "metadata": {},
   "source": [
    "<!-- write your code in between the backquotes -->\n",
    "```\n",
    "\n",
    "```"
   ]
  },
  {
   "cell_type": "markdown",
   "metadata": {},
   "source": [
    "### Question 1.5\n",
    "- Retrieve all astronauts and their nationality: Try with and without the OPTIONAL clause; for each query, get the number of astronauts.\n"
   ]
  },
  {
   "attachments": {},
   "cell_type": "markdown",
   "metadata": {},
   "source": [
    "ana zedet l name mn 3ndeh"
   ]
  },
  {
   "attachments": {},
   "cell_type": "markdown",
   "metadata": {},
   "source": [
    "PREFIX dbo: <http://dbpedia.org/ontology/>\n",
    "PREFIX dbr: <http://dbpedia.org/resource/>\n",
    "PREFIX dbp: <http://dbpedia.org/property/>\n",
    "\n",
    "select ?name ?astro ?nat where {\n",
    "?astro dbp:type|dbo:occupation|dbp:occupation dbr:Astronaut .\n",
    "?astro dbo:birthName ?name .\n",
    "?astro dbp:nationality ?nat .\n",
    "} "
   ]
  },
  {
   "attachments": {},
   "cell_type": "markdown",
   "metadata": {},
   "source": [
    "or"
   ]
  },
  {
   "cell_type": "markdown",
   "metadata": {},
   "source": [
    "PREFIX dbo: <http://dbpedia.org/ontology/>\n",
    "PREFIX dbr: <http://dbpedia.org/resource/>\n",
    "PREFIX dbp: <http://dbpedia.org/property/>\n",
    "\n",
    "select ?name ?astro ?nat where {\n",
    "?astro dbp:type|dbo:occupation|dbp:occupation dbr:Astronaut ;\n",
    "dbo:birthName ?name ;\n",
    "dbo:nationality ?nat .\n",
    "} "
   ]
  },
  {
   "attachments": {},
   "cell_type": "markdown",
   "metadata": {},
   "source": [
    "or"
   ]
  },
  {
   "cell_type": "markdown",
   "metadata": {},
   "source": [
    "PREFIX dbo: <http://dbpedia.org/ontology/>\n",
    "PREFIX dbr: <http://dbpedia.org/resource/>\n",
    "PREFIX dbp: <http://dbpedia.org/property/>\n",
    "\n",
    "select ?astro ?nat where {\n",
    "?astro dbp:type|dbo:occupation|dbp:occupation dbr:Astronaut .\n",
    "OPTIONAL {?astro dbp:nationality|dbp:nationality ?nat }\n",
    "} "
   ]
  },
  {
   "cell_type": "markdown",
   "metadata": {},
   "source": [
    "<!-- write your code in between the backquotes -->\n",
    "```\n",
    "\n",
    "```"
   ]
  },
  {
   "cell_type": "markdown",
   "metadata": {},
   "source": [
    "### Question 1.6\n",
    "- Retrieve all astronauts ordered in reverse alphabetical order .\n"
   ]
  },
  {
   "attachments": {},
   "cell_type": "markdown",
   "metadata": {},
   "source": [
    "PREFIX dbo: <http://dbpedia.org/ontology/>\n",
    "PREFIX dbr: <http://dbpedia.org/resource/>\n",
    "PREFIX dbp: <http://dbpedia.org/property/>\n",
    "\n",
    "select DISTINCT ?name ?astro where {\n",
    "?astro dbp:type|dbo:occupation|dbp:occupation dbr:Astronaut ;\n",
    "dbo:birthName ?name .\n",
    "FILTER(lang(?name)=\"en\")\n",
    "} ORDER BY DESC(?name)"
   ]
  },
  {
   "attachments": {},
   "cell_type": "markdown",
   "metadata": {},
   "source": [
    "or"
   ]
  },
  {
   "cell_type": "markdown",
   "metadata": {},
   "source": [
    "PREFIX dbo: <http://dbpedia.org/ontology/>\n",
    "PREFIX dbr: <http://dbpedia.org/resource/>\n",
    "PREFIX dbp: <http://dbpedia.org/property/>\n",
    "\n",
    "select DISTINCT ?astro where {\n",
    "?astro dbp:type|dbo:occupation|dbp:occupation dbr:Astronaut .\n",
    "} ORDER BY DESC(?astro)"
   ]
  },
  {
   "cell_type": "markdown",
   "metadata": {},
   "source": [
    "<!-- write your code in between the backquotes -->\n",
    "```\n",
    "\n",
    "```"
   ]
  },
  {
   "cell_type": "markdown",
   "metadata": {},
   "source": [
    "### Question 1.7\n",
    "- Retrieve all astronauts grouped by nationality.\n"
   ]
  },
  {
   "cell_type": "markdown",
   "metadata": {},
   "source": [
    "PREFIX dbo: <http://dbpedia.org/ontology/>\n",
    "PREFIX dbr: <http://dbpedia.org/resource/>\n",
    "PREFIX dbp: <http://dbpedia.org/property/>\n",
    "\n",
    "select ?astro ?nat where {\n",
    "?astro dbp:type|dbo:occupation|dbp:occupation dbr:Astronaut .\n",
    "OPTIONAL {?astro dbp:nationality|dbp:nationality ?nat }\n",
    "} GROUP BY ?nat"
   ]
  },
  {
   "cell_type": "markdown",
   "metadata": {},
   "source": [
    "<!-- write your code in between the backquotes -->\n",
    "```\n",
    "\n",
    "```"
   ]
  },
  {
   "cell_type": "markdown",
   "metadata": {},
   "source": [
    "## Exercise 2\n",
    "Using [SPARQLWrapper](https://rdflib.github.io/sparqlwrapper/), write a python program which applies the 7 queries above and display the results.\n"
   ]
  },
  {
   "cell_type": "code",
   "execution_count": 5,
   "metadata": {},
   "outputs": [
    {
     "name": "stdout",
     "output_type": "stream",
     "text": [
      "{'name': {'type': 'literal', 'xml:lang': 'en', 'value': 'Andrew Michael Allen'}, 'astro': {'type': 'uri', 'value': 'http://dbpedia.org/resource/Andrew_M._Allen'}}\n",
      "{'name': {'type': 'literal', 'xml:lang': 'en', 'value': 'David Randolph Scott'}, 'astro': {'type': 'uri', 'value': 'http://dbpedia.org/resource/David_Scott'}}\n",
      "{'name': {'type': 'literal', 'xml:lang': 'en', 'value': 'Vance DeVoe Brand'}, 'astro': {'type': 'uri', 'value': 'http://dbpedia.org/resource/Vance_D._Brand'}}\n",
      "{'name': {'type': 'literal', 'xml:lang': 'en', 'value': 'Walter Marty Schirra Jr.'}, 'astro': {'type': 'uri', 'value': 'http://dbpedia.org/resource/Wally_Schirra'}}\n",
      "{'name': {'type': 'literal', 'xml:lang': 'en', 'value': 'Ronnie Walter Cunningham'}, 'astro': {'type': 'uri', 'value': 'http://dbpedia.org/resource/Walter_Cunningham'}}\n",
      "{'name': {'type': 'literal', 'xml:lang': 'en', 'value': 'Francis Richard Scobee'}, 'astro': {'type': 'uri', 'value': 'http://dbpedia.org/resource/Dick_Scobee'}}\n",
      "{'name': {'type': 'literal', 'xml:lang': 'en', 'value': 'Alan LaVern Bean'}, 'astro': {'type': 'uri', 'value': 'http://dbpedia.org/resource/Alan_Bean'}}\n",
      "{'name': {'type': 'literal', 'xml:lang': 'en', 'value': 'Alan Bartlett Shepard Jr.'}, 'astro': {'type': 'uri', 'value': 'http://dbpedia.org/resource/Alan_Shepard'}}\n",
      "{'name': {'type': 'literal', 'xml:lang': 'en', 'value': 'Alexei Arkhipovich Leonov'}, 'astro': {'type': 'uri', 'value': 'http://dbpedia.org/resource/Alexei_Leonov'}}\n",
      "{'name': {'type': 'literal', 'xml:lang': 'en', 'value': 'Alfred Merrill Worden'}, 'astro': {'type': 'uri', 'value': 'http://dbpedia.org/resource/Alfred_Worden'}}\n",
      "{'name': {'type': 'literal', 'xml:lang': 'en', 'value': 'Frank Frederick Borman II'}, 'astro': {'type': 'uri', 'value': 'http://dbpedia.org/resource/Frank_Borman'}}\n",
      "{'name': {'type': 'literal', 'xml:lang': 'en', 'value': 'Frederick Hamilton Hauck'}, 'astro': {'type': 'uri', 'value': 'http://dbpedia.org/resource/Frederick_Hauck'}}\n",
      "{'name': {'type': 'literal', 'xml:lang': 'en', 'value': 'Frederick Wilford Sturckow'}, 'astro': {'type': 'uri', 'value': 'http://dbpedia.org/resource/Frederick_W._Sturckow'}}\n",
      "{'name': {'type': 'literal', 'xml:lang': 'en', 'value': 'Eugene Andrew Cernan'}, 'astro': {'type': 'uri', 'value': 'http://dbpedia.org/resource/Gene_Cernan'}}\n",
      "{'name': {'type': 'literal', 'xml:lang': 'en', 'value': 'William Alison Anders'}, 'astro': {'type': 'uri', 'value': 'http://dbpedia.org/resource/William_Anders'}}\n",
      "{'name': {'type': 'literal', 'xml:lang': 'en', 'value': 'William Edgar Thornton'}, 'astro': {'type': 'uri', 'value': 'http://dbpedia.org/resource/William_E._Thornton'}}\n",
      "{'name': {'type': 'literal', 'xml:lang': 'en', 'value': 'William Harvey Dana'}, 'astro': {'type': 'uri', 'value': 'http://dbpedia.org/resource/William_H._Dana'}}\n",
      "{'name': {'type': 'literal', 'xml:lang': 'en', 'value': 'William Anthony Oefelein'}, 'astro': {'type': 'uri', 'value': 'http://dbpedia.org/resource/William_Oefelein'}}\n",
      "{'name': {'type': 'literal', 'xml:lang': 'en', 'value': 'William Reid Pogue'}, 'astro': {'type': 'uri', 'value': 'http://dbpedia.org/resource/William_Pogue'}}\n",
      "{'name': {'type': 'literal', 'xml:lang': 'en', 'value': 'William Surles McArthur Jr.'}, 'astro': {'type': 'uri', 'value': 'http://dbpedia.org/resource/William_S._McArthur'}}\n",
      "{'name': {'type': 'literal', 'xml:lang': 'en', 'value': 'William McMichael Shepherd'}, 'astro': {'type': 'uri', 'value': 'http://dbpedia.org/resource/William_Shepherd'}}\n",
      "{'name': {'type': 'literal', 'xml:lang': 'en', 'value': 'Eric Allen Boe'}, 'astro': {'type': 'uri', 'value': 'http://dbpedia.org/resource/Eric_Boe'}}\n",
      "{'name': {'type': 'literal', 'xml:lang': 'en', 'value': 'Gerald Paul Carr'}, 'astro': {'type': 'uri', 'value': 'http://dbpedia.org/resource/Gerald_Carr_(astronaut)'}}\n",
      "{'name': {'type': 'literal', 'xml:lang': 'en', 'value': 'Marcos Cesar Pontes'}, 'astro': {'type': 'uri', 'value': 'http://dbpedia.org/resource/Marcos_Pontes'}}\n",
      "{'name': {'type': 'literal', 'xml:lang': 'en', 'value': 'Terrence Wade Wilcutt'}, 'astro': {'type': 'uri', 'value': 'http://dbpedia.org/resource/Terrence_W._Wilcutt'}}\n",
      "{'name': {'type': 'literal', 'xml:lang': 'en', 'value': 'Byron Willis McCandless'}, 'astro': {'type': 'uri', 'value': 'http://dbpedia.org/resource/Bruce_McCandless_II'}}\n",
      "{'name': {'type': 'literal', 'xml:lang': 'en', 'value': 'Jack Robert Lousma'}, 'astro': {'type': 'uri', 'value': 'http://dbpedia.org/resource/Jack_R._Lousma'}}\n",
      "{'name': {'type': 'literal', 'xml:lang': 'en', 'value': 'James Benson Irwin'}, 'astro': {'type': 'uri', 'value': 'http://dbpedia.org/resource/James_Irwin'}}\n",
      "{'name': {'type': 'literal', 'xml:lang': 'en', 'value': 'Nancy Jan Smotherman'}, 'astro': {'type': 'uri', 'value': 'http://dbpedia.org/resource/Jan_Davis'}}\n",
      "{'name': {'type': 'literal', 'xml:lang': 'en', 'value': 'Kenneth Dwane Bowersox'}, 'astro': {'type': 'uri', 'value': 'http://dbpedia.org/resource/Ken_Bowersox'}}\n",
      "{'name': {'type': 'literal', 'xml:lang': 'en', 'value': ''}, 'astro': {'type': 'uri', 'value': 'http://dbpedia.org/resource/Ken_Mattingly'}}\n",
      "{'name': {'type': 'literal', 'xml:lang': 'en', 'value': 'Thomas Kenneth Mattingly II'}, 'astro': {'type': 'uri', 'value': 'http://dbpedia.org/resource/Ken_Mattingly'}}\n",
      "{'name': {'type': 'literal', 'xml:lang': 'en', 'value': 'Kenneth Stanley Reightler Jr.'}, 'astro': {'type': 'uri', 'value': 'http://dbpedia.org/resource/Kenneth_S._Reightler_Jr.'}}\n",
      "{'name': {'type': 'literal', 'xml:lang': 'en', 'value': 'Kevin Richard Kregel'}, 'astro': {'type': 'uri', 'value': 'http://dbpedia.org/resource/Kevin_R._Kregel'}}\n",
      "{'name': {'type': 'literal', 'xml:lang': 'en', 'value': 'Clifton Curtis Williams, Jr.'}, 'astro': {'type': 'uri', 'value': 'http://dbpedia.org/resource/Clifton_Williams'}}\n",
      "{'name': {'type': 'literal', 'xml:lang': 'en', 'value': 'John Sumter Bull'}, 'astro': {'type': 'uri', 'value': 'http://dbpedia.org/resource/John_S._Bull'}}\n",
      "{'name': {'type': 'literal', 'xml:lang': 'en', 'value': 'Joseph Albert Walker'}, 'astro': {'type': 'uri', 'value': 'http://dbpedia.org/resource/Joseph_A._Walker'}}\n",
      "{'name': {'type': 'literal', 'xml:lang': 'en', 'value': 'Joseph Michael Acabá'}, 'astro': {'type': 'uri', 'value': 'http://dbpedia.org/resource/Joseph_M._Acaba'}}\n",
      "{'name': {'type': 'literal', 'xml:lang': 'en', 'value': 'Malcolm Scott Carpenter'}, 'astro': {'type': 'uri', 'value': 'http://dbpedia.org/resource/Scott_Carpenter'}}\n",
      "{'name': {'type': 'literal', 'xml:lang': 'en', 'value': 'Barbara Radding'}, 'astro': {'type': 'uri', 'value': 'http://dbpedia.org/resource/Barbara_Morgan'}}\n",
      "{'name': {'type': 'literal', 'xml:lang': 'en', 'value': 'Jack David Fischer'}, 'astro': {'type': 'uri', 'value': 'http://dbpedia.org/resource/Jack_D._Fischer'}}\n",
      "{'name': {'type': 'literal', 'xml:lang': 'en', 'value': 'Nadezhda Vasilievna Kuzhelnaya'}, 'astro': {'type': 'uri', 'value': 'http://dbpedia.org/resource/Nadezhda_Kuzhelnaya'}}\n",
      "{'name': {'type': 'literal', 'xml:lang': 'en', 'value': 'Edwin Eugene Aldrin Jr.'}, 'astro': {'type': 'uri', 'value': 'http://dbpedia.org/resource/Buzz_Aldrin'}}\n",
      "{'name': {'type': 'literal', 'xml:lang': 'en', 'value': 'Charles Arthur Bassett II'}, 'astro': {'type': 'uri', 'value': 'http://dbpedia.org/resource/Charles_Bassett'}}\n",
      "{'name': {'type': 'literal', 'xml:lang': 'en', 'value': 'Charles Moss Duke Jr.'}, 'astro': {'type': 'uri', 'value': 'http://dbpedia.org/resource/Charles_Duke'}}\n",
      "{'name': {'type': 'literal', 'xml:lang': 'en', 'value': 'Christopher John Cassidy'}, 'astro': {'type': 'uri', 'value': 'http://dbpedia.org/resource/Christopher_Cassidy'}}\n",
      "{'name': {'type': 'literal', 'xml:lang': 'en', 'value': 'Steven Alan Hawley'}, 'astro': {'type': 'uri', 'value': 'http://dbpedia.org/resource/Steven_Hawley'}}\n",
      "{'name': {'type': 'literal', 'xml:lang': 'en', 'value': 'Steven Wayne Lindsey'}, 'astro': {'type': 'uri', 'value': 'http://dbpedia.org/resource/Steven_Lindsey'}}\n",
      "{'name': {'type': 'literal', 'xml:lang': 'en', 'value': 'Franklin Story Musgrave'}, 'astro': {'type': 'uri', 'value': 'http://dbpedia.org/resource/Story_Musgrave'}}\n",
      "{'name': {'type': 'literal', 'xml:lang': 'en', 'value': 'Stuart Allen Roosa'}, 'astro': {'type': 'uri', 'value': 'http://dbpedia.org/resource/Stuart_Roosa'}}\n",
      "{'name': {'type': 'literal', 'xml:lang': 'en', 'value': 'Donald Herod Peterson'}, 'astro': {'type': 'uri', 'value': 'http://dbpedia.org/resource/Donald_H._Peterson'}}\n",
      "{'name': {'type': 'literal', 'xml:lang': 'en', 'value': 'Donn Fulton Eisele'}, 'astro': {'type': 'uri', 'value': 'http://dbpedia.org/resource/Donn_F._Eisele'}}\n",
      "{'name': {'type': 'literal', 'xml:lang': 'en', 'value': 'Duane Edgar Graveline'}, 'astro': {'type': 'uri', 'value': 'http://dbpedia.org/resource/Duane_Graveline'}}\n",
      "{'name': {'type': 'literal', 'xml:lang': 'en', 'value': 'Manley Lanier Carter Jr.'}, 'astro': {'type': 'uri', 'value': 'http://dbpedia.org/resource/Sonny_Carter'}}\n",
      "{'name': {'type': 'literal', 'xml:lang': 'en', 'value': 'Guion Stewart Bluford Jr.'}, 'astro': {'type': 'uri', 'value': 'http://dbpedia.org/resource/Guion_Bluford'}}\n",
      "{'name': {'type': 'literal', 'xml:lang': 'en', 'value': 'Virgil Ivan Grissom'}, 'astro': {'type': 'uri', 'value': 'http://dbpedia.org/resource/Gus_Grissom'}}\n",
      "{'name': {'type': 'literal', 'xml:lang': 'en', 'value': 'Guy Spence Gardner'}, 'astro': {'type': 'uri', 'value': 'http://dbpedia.org/resource/Guy_Gardner_(astronaut)'}}\n",
      "{'name': {'type': 'literal', 'xml:lang': 'en', 'value': 'Richard Francis Gordon Jr.'}, 'astro': {'type': 'uri', 'value': 'http://dbpedia.org/resource/Richard_F._Gordon_Jr.'}}\n",
      "{'name': {'type': 'literal', 'xml:lang': 'en', 'value': 'Richard Michael Linnehan'}, 'astro': {'type': 'uri', 'value': 'http://dbpedia.org/resource/Richard_M._Linnehan'}}\n",
      "{'name': {'type': 'literal', 'xml:lang': 'en', 'value': 'Rick Douglas Husband'}, 'astro': {'type': 'uri', 'value': 'http://dbpedia.org/resource/Rick_Husband'}}\n",
      "{'name': {'type': 'literal', 'xml:lang': 'en', 'value': 'Robert Aitken Rushworth'}, 'astro': {'type': 'uri', 'value': 'http://dbpedia.org/resource/Robert_A._Rushworth'}}\n",
      "{'name': {'type': 'literal', 'xml:lang': 'en', 'value': 'Robert Lee Curbeam, Jr.'}, 'astro': {'type': 'uri', 'value': 'http://dbpedia.org/resource/Robert_Curbeam'}}\n",
      "{'name': {'type': 'literal', 'xml:lang': 'en', 'value': 'Robert Franklyn Overmyer'}, 'astro': {'type': 'uri', 'value': 'http://dbpedia.org/resource/Robert_F._Overmyer'}}\n",
      "{'name': {'type': 'literal', 'xml:lang': 'en', 'value': 'Robert Lee Stewart'}, 'astro': {'type': 'uri', 'value': 'http://dbpedia.org/resource/Robert_L._Stewart'}}\n",
      "{'name': {'type': 'literal', 'xml:lang': 'en', 'value': 'Roger Bruce Chaffee'}, 'astro': {'type': 'uri', 'value': 'http://dbpedia.org/resource/Roger_B._Chaffee'}}\n",
      "{'name': {'type': 'literal', 'xml:lang': 'en', 'value': 'Jeffrey Shears Ashby'}, 'astro': {'type': 'uri', 'value': 'http://dbpedia.org/resource/Jeffrey_Ashby'}}\n",
      "{'name': {'type': 'literal', 'xml:lang': 'en', 'value': 'Jessica Ulrika Meir'}, 'astro': {'type': 'uri', 'value': 'http://dbpedia.org/resource/Jessica_Meir'}}\n",
      "{'name': {'type': 'literal', 'xml:lang': 'en', 'value': 'James Donald Wetherbee'}, 'astro': {'type': 'uri', 'value': 'http://dbpedia.org/resource/Jim_Wetherbee'}}\n",
      "{'name': {'type': 'literal', 'xml:lang': 'en', 'value': 'Joe Henry Engle'}, 'astro': {'type': 'uri', 'value': 'http://dbpedia.org/resource/Joe_Engle'}}\n",
      "{'name': {'type': 'literal', 'xml:lang': 'en', 'value': 'Joe Frank Edwards Jr.'}, 'astro': {'type': 'uri', 'value': 'http://dbpedia.org/resource/Joe_F._Edwards_Jr.'}}\n",
      "{'name': {'type': 'literal', 'xml:lang': 'en', 'value': 'John Elmer Blaha'}, 'astro': {'type': 'uri', 'value': 'http://dbpedia.org/resource/John_E._Blaha'}}\n",
      "{'name': {'type': 'literal', 'xml:lang': 'en', 'value': 'Charles Conrad Jr.'}, 'astro': {'type': 'uri', 'value': 'http://dbpedia.org/resource/Pete_Conrad'}}\n",
      "{'name': {'type': 'literal', 'xml:lang': 'en', 'value': 'Pierre Joseph Thuot'}, 'astro': {'type': 'uri', 'value': 'http://dbpedia.org/resource/Pierre_J._Thuot'}}\n",
      "{'name': {'type': 'literal', 'xml:lang': 'en', 'value': 'Piers John Sellers'}, 'astro': {'type': 'uri', 'value': 'http://dbpedia.org/resource/Piers_Sellers'}}\n",
      "{'name': {'type': 'literal', 'xml:lang': 'en', 'value': 'Theodore Cordy Freeman'}, 'astro': {'type': 'uri', 'value': 'http://dbpedia.org/resource/Theodore_Freeman'}}\n",
      "{'name': {'type': 'literal', 'xml:lang': 'en', 'value': 'Thomas D. Akers'}, 'astro': {'type': 'uri', 'value': 'http://dbpedia.org/resource/Thomas_Akers'}}\n",
      "{'name': {'type': 'literal', 'xml:lang': 'en', 'value': 'Thomas Patten Stafford'}, 'astro': {'type': 'uri', 'value': 'http://dbpedia.org/resource/Thomas_P._Stafford'}}\n",
      "{'name': {'type': 'literal', 'xml:lang': 'en', 'value': 'Thomas Gautier Pesquet'}, 'astro': {'type': 'uri', 'value': 'http://dbpedia.org/resource/Thomas_Pesquet'}}\n",
      "{'name': {'type': 'literal', 'xml:lang': 'en', 'value': 'Timothy Nigel Peake'}, 'astro': {'type': 'uri', 'value': 'http://dbpedia.org/resource/Tim_Peake'}}\n",
      "{'name': {'type': 'literal', 'xml:lang': 'en', 'value': 'Winston Elliott Scott'}, 'astro': {'type': 'uri', 'value': 'http://dbpedia.org/resource/Winston_E._Scott'}}\n",
      "{'name': {'type': 'literal', 'xml:lang': 'en', 'value': 'Edward Higgins White II'}, 'astro': {'type': 'uri', 'value': 'http://dbpedia.org/resource/Ed_White_(astronaut)'}}\n",
      "{'name': {'type': 'literal', 'xml:lang': 'en', 'value': 'Edgar Dean Mitchell'}, 'astro': {'type': 'uri', 'value': 'http://dbpedia.org/resource/Edgar_Mitchell'}}\n",
      "{'name': {'type': 'literal', 'xml:lang': 'en', 'value': 'Edward Galen Givens Jr.'}, 'astro': {'type': 'uri', 'value': 'http://dbpedia.org/resource/Edward_Givens'}}\n",
      "{'name': {'type': 'literal', 'xml:lang': 'en', 'value': 'Eileen Marie Collins'}, 'astro': {'type': 'uri', 'value': 'http://dbpedia.org/resource/Eileen_Collins'}}\n",
      "{'name': {'type': 'literal', 'xml:lang': 'en', 'value': 'Elliot McKay See Jr.'}, 'astro': {'type': 'uri', 'value': 'http://dbpedia.org/resource/Elliot_See'}}\n",
      "{'name': {'type': 'literal', 'xml:lang': 'en', 'value': 'Loren James Shriver'}, 'astro': {'type': 'uri', 'value': 'http://dbpedia.org/resource/Loren_Shriver'}}\n",
      "{'name': {'type': 'literal', 'xml:lang': 'en', 'value': 'Sherwood Clark Spring'}, 'astro': {'type': 'uri', 'value': 'http://dbpedia.org/resource/Sherwood_C._Spring'}}\n",
      "{'name': {'type': 'literal', 'xml:lang': 'en', 'value': 'Stephen Kern Robinson'}, 'astro': {'type': 'uri', 'value': 'http://dbpedia.org/resource/Stephen_Robinson'}}\n",
      "{'name': {'type': 'literal', 'xml:lang': 'en', 'value': 'Stephen Scot Oswald'}, 'astro': {'type': 'uri', 'value': 'http://dbpedia.org/resource/Stephen_S._Oswald'}}\n",
      "{'name': {'type': 'literal', 'xml:lang': 'en', 'value': 'Bjarni Valdimar Tryggvason'}, 'astro': {'type': 'uri', 'value': 'http://dbpedia.org/resource/Bjarni_Tryggvason'}}\n",
      "{'name': {'type': 'literal', 'xml:lang': 'en', 'value': 'Igor Petrovich Volk'}, 'astro': {'type': 'uri', 'value': 'http://dbpedia.org/resource/Igor_Volk'}}\n",
      "{'name': {'type': 'literal', 'xml:lang': 'en', 'value': 'Michael Allen Baker'}, 'astro': {'type': 'uri', 'value': 'http://dbpedia.org/resource/Michael_A._Baker'}}\n",
      "{'name': {'type': 'literal', 'xml:lang': 'en', 'value': 'Michael Lloyd Coats'}, 'astro': {'type': 'uri', 'value': 'http://dbpedia.org/resource/Michael_Coats'}}\n",
      "{'name': {'type': 'literal', 'xml:lang': 'en', 'value': 'Edward Michael Fincke'}, 'astro': {'type': 'uri', 'value': 'http://dbpedia.org/resource/Michael_Fincke'}}\n",
      "{'name': {'type': 'literal', 'xml:lang': 'en', 'value': 'Michael James Adams'}, 'astro': {'type': 'uri', 'value': 'http://dbpedia.org/resource/Michael_J._Adams'}}\n",
      "{'name': {'type': 'literal', 'xml:lang': 'en', 'value': 'Michael James McCulley'}, 'astro': {'type': 'uri', 'value': 'http://dbpedia.org/resource/Michael_J._McCulley'}}\n",
      "{'name': {'type': 'literal', 'xml:lang': 'en', 'value': 'Michael John Smith'}, 'astro': {'type': 'uri', 'value': 'http://dbpedia.org/resource/Michael_J._Smith'}}\n",
      "{'name': {'type': 'literal', 'xml:lang': 'en', 'value': 'Michael Phillip Anderson'}, 'astro': {'type': 'uri', 'value': 'http://dbpedia.org/resource/Michael_P._Anderson'}}\n",
      "{'name': {'type': 'literal', 'xml:lang': 'en', 'value': 'Michael Richard Clifford'}, 'astro': {'type': 'uri', 'value': 'http://dbpedia.org/resource/Michael_R._Clifford'}}\n",
      "{'name': {'type': 'literal', 'xml:lang': 'en', 'value': 'Michael James Massimino'}, 'astro': {'type': 'uri', 'value': 'http://dbpedia.org/resource/Mike_Massimino'}}\n",
      "{'name': {'type': 'literal', 'xml:lang': 'en', 'value': 'Paul Scott Lockhart'}, 'astro': {'type': 'uri', 'value': 'http://dbpedia.org/resource/Paul_Lockhart'}}\n",
      "{'name': {'type': 'literal', 'xml:lang': 'en', 'value': 'Ronald John Grabe'}, 'astro': {'type': 'uri', 'value': 'http://dbpedia.org/resource/Ronald_J._Grabe'}}\n",
      "{'name': {'type': 'literal', 'xml:lang': 'en', 'value': 'Russell Louis Schweickart'}, 'astro': {'type': 'uri', 'value': 'http://dbpedia.org/resource/Rusty_Schweickart'}}\n",
      "{'name': {'type': 'literal', 'xml:lang': 'en', 'value': 'Stanley David Griggs'}, 'astro': {'type': 'uri', 'value': 'http://dbpedia.org/resource/S._David_Griggs'}}\n",
      "{'name': {'type': 'literal', 'xml:lang': 'en', 'value': 'Yuri Alekseyevich Gagarin'}, 'astro': {'type': 'uri', 'value': 'http://dbpedia.org/resource/Yuri_Gagarin'}}\n",
      "{'name': {'type': 'literal', 'xml:lang': 'en', 'value': 'Jessica Andrea Watkins'}, 'astro': {'type': 'uri', 'value': 'http://dbpedia.org/resource/Jessica_Watkins__Jessica_Watkins__1'}}\n",
      "{'name': {'type': 'literal', 'xml:lang': 'en', 'value': 'Fred Wallace Haise Jr.'}, 'astro': {'type': 'uri', 'value': 'http://dbpedia.org/resource/Fred_Haise__Fred_W._Haise_Jr.__1'}}\n"
     ]
    }
   ],
   "source": [
    "from SPARQLWrapper import SPARQLWrapper, JSON\n",
    "sparql = SPARQLWrapper(\"http://dbpedia.org/sparql/\")\n",
    "sparql.setQuery(\"\"\"\n",
    "PREFIX dbo: <http://dbpedia.org/ontology/>\n",
    "PREFIX dbr: <http://dbpedia.org/resource/>\n",
    "PREFIX dbp: <http://dbpedia.org/property/>\n",
    "\n",
    "select DISTINCT ?name ?astro where {\n",
    "?astro dbp:type|dbo:occupation|dbp:occupation dbr:Astronaut ;\n",
    "dbo:birthName ?name .\n",
    "FILTER(lang(?name)=\"en\")\n",
    "}\n",
    "\"\"\")\n",
    "sparql.setReturnFormat(JSON)\n",
    "results = sparql.query().convert()\n",
    "for result in results[\"results\"][\"bindings\"]:\n",
    "    print(result)"
   ]
  }
 ],
 "metadata": {
  "kernelspec": {
   "display_name": "envconda",
   "language": "python",
   "name": "python3"
  },
  "language_info": {
   "codemirror_mode": {
    "name": "ipython",
    "version": 3
   },
   "file_extension": ".py",
   "mimetype": "text/x-python",
   "name": "python",
   "nbconvert_exporter": "python",
   "pygments_lexer": "ipython3",
   "version": "3.10.8"
  },
  "vscode": {
   "interpreter": {
    "hash": "e1f1415fb3646a1354256c85ddea679a9bdee6300c69dd52d50af5b6d98a79fa"
   }
  }
 },
 "nbformat": 4,
 "nbformat_minor": 2
}
